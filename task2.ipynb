{
 "cells": [
  {
   "cell_type": "markdown",
   "metadata": {},
   "source": [
    "# Task 2: Logistic Regression"
   ]
  },
  {
   "cell_type": "markdown",
   "metadata": {},
   "source": [
    "Notes: for the features of the model, instead of using the average embedding vector betqeen query and passage, you could do:\n",
    "1) Cosine similarity between query vector and passage vector\n",
    "2) BM25 score between query and passage\n",
    "3) Length of query\n",
    "4) Length of passage\n"
   ]
  },
  {
   "cell_type": "markdown",
   "metadata": {},
   "source": [
    "## Imports and Installs"
   ]
  },
  {
   "cell_type": "code",
   "execution_count": 1,
   "metadata": {},
   "outputs": [],
   "source": [
    "from nltk.stem import WordNetLemmatizer\n",
    "import contractions\n",
    "import string\n",
    "import pickle\n",
    "import numpy as np\n",
    "import pandas as pd\n",
    "from nltk.corpus import stopwords\n",
    "import matplotlib.pyplot as plt\n",
    "\n",
    "lemmatizer = WordNetLemmatizer()\n",
    "stop_words = set(stopwords.words('english'))"
   ]
  },
  {
   "cell_type": "code",
   "execution_count": 2,
   "metadata": {},
   "outputs": [
    {
     "name": "stdout",
     "output_type": "stream",
     "text": [
      "Requirement already satisfied: bcolz-zipline in /Users/joanrossello/opt/anaconda3/lib/python3.8/site-packages (1.2.4)\n",
      "Requirement already satisfied: numpy in /Users/joanrossello/opt/anaconda3/lib/python3.8/site-packages (from bcolz-zipline) (1.20.1)\n"
     ]
    }
   ],
   "source": [
    "!pip install bcolz-zipline"
   ]
  },
  {
   "cell_type": "code",
   "execution_count": 3,
   "metadata": {},
   "outputs": [],
   "source": [
    "import bcolz"
   ]
  },
  {
   "cell_type": "markdown",
   "metadata": {},
   "source": [
    "## Text normalisation function"
   ]
  },
  {
   "cell_type": "code",
   "execution_count": 4,
   "metadata": {},
   "outputs": [],
   "source": [
    "def normalise(text):\n",
    "    '''\n",
    "    Function that normalises text and returns tokens.\n",
    "    Input: text --> text string we want to tokenise\n",
    "    Output: tokens --> list of tokens taken from the text string\n",
    "    '''\n",
    "\n",
    "    text = text.lower() # convert all to lower case\n",
    "    text = contractions.fix(text) # expand contractions\n",
    "    text = text.translate(str.maketrans(string.punctuation, ' '*len(string.punctuation))) # remove punctuation\n",
    "    tokens = text.split() # tokenisation\n",
    "    filtered_tokens = [w for w in tokens if not w in stop_words] # remove stop words\n",
    "    # filtered_tokens = list(map(lemmatizer.lemmatize, filtered_tokens)) # lemmatization of nouns\n",
    "\n",
    "    return filtered_tokens"
   ]
  },
  {
   "cell_type": "markdown",
   "metadata": {},
   "source": [
    "## Data manipulation\n",
    "- Define a way to transform words into word embeddings --> GloVe\n",
    "- For the data frames of training and validation, replace the text in the actual query and passage cells with word embeddings. For every work in the sentence, we calculate the word embedding with GloVe and then we average the embeddings between all the words in the sentence to get the global sentence embedding. Note that we do not need to worry about padding due to different sentence lengths, because all the word embeddings are vectors of length 50, so the resulting average will also be a vector of length 50, so all the model input data will have the same size.\n",
    "\n",
    "Working with GloVe...\n",
    "- We remove capitalisation and contractions\n",
    "- Should we remove punctuation? It is necessary when the query is actually about the use of some type of punctuation, but this is very unlikely, and it will make it messier in predictions, sow e will remove punctuation\n",
    "- Should we remove top words? Yes, since they do not add meaning of the query to the actual passage, and so for example if a passager has many stop words, and only 2 important words, and then the original query has the 2 important words but no stop words, maybe the model will attribute the passage to a query that also includes many stop words, which would be wrong. Better to eliminate stop words.\n",
    "- GloVe includes all words, so no need to lemmatize? No, no need to lemmatize.\n",
    "- The main problem I see here is with composite words that use punctuation in between. GloVe has them in their vocabulary, but they are hard to tokenise, excluding punctuation but then making exceptions for these kind of words, i.e. 'ar' and 'ar-15'. So for now we will ignore this pitfall, work by removing all punctuation, and see what the performance of the model is like."
   ]
  },
  {
   "cell_type": "markdown",
   "metadata": {},
   "source": [
    "### 1) Load training and validation dataframes"
   ]
  },
  {
   "cell_type": "code",
   "execution_count": 5,
   "metadata": {},
   "outputs": [],
   "source": [
    "train_dataframe = pd.read_csv('train_data.tsv', delimiter='\\t')\n",
    "val_dataframe = pd.read_csv('validation_data.tsv', delimiter='\\t')"
   ]
  },
  {
   "cell_type": "markdown",
   "metadata": {},
   "source": [
    "### 2) Set up word embeddings with GloVe"
   ]
  },
  {
   "cell_type": "code",
   "execution_count": 6,
   "metadata": {},
   "outputs": [],
   "source": [
    "#Load in pickled embeddings\n",
    "vectors = bcolz.open('6B.50.dat')[:]\n",
    "words = pickle.load(open('6B.50_words.pkl', 'rb'))\n",
    "word2idx = pickle.load(open('6B.50_idx.pkl', 'rb'))\n",
    "glove = {w: vectors[word2idx[w]] for w in words}"
   ]
  },
  {
   "cell_type": "markdown",
   "metadata": {},
   "source": [
    "### 3) Perform normalisation and word embeddings --> prepare input data for logistic regression model\n",
    "- Remember some words in your corpus might not be in GloVe, so you need to replace them by $<unk>$ token.\n",
    "- The query/passage embeddings are calculated as the average of the tokens in the query/passage.\n",
    "- We could 1) concatenate query/passage embeddings, 2) make an average embedding, or 3) compute cosine similarity between centroid of query and passage embeddings.\n",
    "- We tested all 3 options, and we use option 2 since it is the one that yielded the best results.\n"
   ]
  },
  {
   "cell_type": "code",
   "execution_count": 7,
   "metadata": {},
   "outputs": [],
   "source": [
    "X_data_train = []\n",
    "y_data_train = []\n",
    "\n",
    "def train_data_extraction(row):\n",
    "\n",
    "    q_embed = np.zeros(50) # we chose glove vectors to have length = 50\n",
    "    p_embed = np.zeros(50)\n",
    "    \n",
    "    query = normalise(row['queries'])\n",
    "    for q in query:\n",
    "        try:\n",
    "            q_embed += glove[q]\n",
    "        except:\n",
    "            q_embed += glove['<unk>'] # if the token is not present in GloVe, we assign it as <unk>\n",
    "    q_embed /= len(query)\n",
    "\n",
    "    passage = normalise(row['passage'])\n",
    "    for p in passage:\n",
    "        try:\n",
    "            p_embed += glove[p]\n",
    "        except:\n",
    "            p_embed += glove['<unk>'] # if the token is not present in GloVe, we assign it as <unk>\n",
    "    p_embed /= len(passage)\n",
    "\n",
    "    rel = row['relevancy']\n",
    "    \n",
    "    # x = np.concatenate((q_embed,p_embed)) # concatenate query and passage embedding\n",
    "    x = (q_embed + p_embed) / 2 # average of query and passage embedding\n",
    "    X_data_train.append(x)\n",
    "    y_data_train.append(rel)\n",
    "\n",
    "_ = train_dataframe.apply(lambda row: train_data_extraction(row), axis=1)\n",
    "\n",
    "X_data_train = np.array(X_data_train)\n",
    "y_data_train = np.array(y_data_train)"
   ]
  },
  {
   "cell_type": "code",
   "execution_count": 8,
   "metadata": {},
   "outputs": [],
   "source": [
    "# np.savetxt('processed_X_train_data.txt', X_data_train, fmt='%f')\n",
    "# np.savetxt('processed_y_train_data.txt', y_data_train, fmt='%f')"
   ]
  },
  {
   "cell_type": "code",
   "execution_count": 9,
   "metadata": {},
   "outputs": [],
   "source": [
    "X_data_val = []\n",
    "y_data_val = []\n",
    "\n",
    "def val_data_extraction(row):\n",
    "\n",
    "    q_embed = np.zeros(50) # we chose glove vectors to have length = 50\n",
    "    p_embed = np.zeros(50)\n",
    "    \n",
    "    query = normalise(row['queries'])\n",
    "    for q in query:\n",
    "        try:\n",
    "            q_embed += glove[q]\n",
    "        except:\n",
    "            q_embed += glove['<unk>'] # if the token is not present in GloVe, we assign it as <unk>\n",
    "    q_embed /= len(query)\n",
    "\n",
    "    passage = normalise(row['passage'])\n",
    "    for p in passage:\n",
    "        try:\n",
    "            p_embed += glove[p]\n",
    "        except:\n",
    "            p_embed += glove['<unk>'] # if the token is not present in GloVe, we assign it as <unk>\n",
    "    p_embed /= len(passage)\n",
    "\n",
    "    rel = row['relevancy']\n",
    "    \n",
    "    # x = np.concatenate((q_embed,p_embed)) # concatenate query and passage embedding\n",
    "    x = (q_embed + p_embed) / 2 # average of query and passage embedding\n",
    "    X_data_val.append(x)\n",
    "    y_data_val.append(rel)\n",
    "\n",
    "_ = val_dataframe.apply(lambda row: val_data_extraction(row), axis=1)\n",
    "\n",
    "X_data_val = np.array(X_data_val)\n",
    "y_data_val = np.array(y_data_val)"
   ]
  },
  {
   "cell_type": "code",
   "execution_count": 10,
   "metadata": {},
   "outputs": [],
   "source": [
    "# np.savetxt('processed_X_val_data.txt', X_data_val, fmt='%f')\n",
    "# np.savetxt('processed_y_val_data.txt', y_data_val, fmt='%f')"
   ]
  },
  {
   "cell_type": "markdown",
   "metadata": {},
   "source": [
    "## Logistic Regression Model"
   ]
  },
  {
   "cell_type": "markdown",
   "metadata": {},
   "source": [
    "### 1) Prepare input data\n",
    "Input data already prepared in previous section. \n",
    "- We have X data in numpy array of size (n,d) where n = number of (qid,pid) combinations, and d = number of concatednated features = 50 (the input is the average of the query and passage embedding).\n",
    "- The resulting X matrix is a matrix of query and passage embeddings, concatenated.\n",
    "- The resulting y matrix contains the n relevancies of the n (qid,pid) pairs in matrix X. It is a vector of length n."
   ]
  },
  {
   "cell_type": "markdown",
   "metadata": {},
   "source": [
    "### 2) Model"
   ]
  },
  {
   "cell_type": "code",
   "execution_count": 11,
   "metadata": {},
   "outputs": [],
   "source": [
    "def gradient_descent ( z, loss_func, grad_func, lr=0.01,\n",
    "                       loss_stop=1e-4, z_stop=1e-4, max_iter=100 ):\n",
    "    \"\"\"\n",
    "    Generic batch gradient descent optimisation.\n",
    "    Iteratively updates z by subtracting lr * grad\n",
    "    until one or more stopping criteria are met.\n",
    "    \n",
    "    # Arguments\n",
    "        z: initial value(s) of the optimisation var(s).\n",
    "            can be a scalar if optimising a univariate\n",
    "            function, otherwise a single numpy array\n",
    "        loss_func: function of z that we seek to minimise,\n",
    "            should return a scalar value\n",
    "        grad_func: function calculating the gradient of\n",
    "            loss_func at z. for vector z, this should return\n",
    "            a vector of the same length containing the\n",
    "            partial derivatives\n",
    "        lr: learning rate, ie fraction of the gradient by \n",
    "            which to update z each iteration\n",
    "        loss_stop: stop iterating if the loss changes\n",
    "            by less than this (absolute)\n",
    "        z_stop: stop iterating if z changes by less than\n",
    "            this (L2 norm)\n",
    "        max_iter: stop iterating after iterating this\n",
    "            many times\n",
    "    \n",
    "    # Returns\n",
    "        zs: a list of the z values at each iteration\n",
    "        losses: a list of the losses at each iteration\n",
    "    \"\"\"\n",
    "    losses = [ loss_func(z) ]\n",
    "    zs = [ z ]\n",
    "    \n",
    "    d_loss = np.inf\n",
    "    d_z = np.inf\n",
    "\n",
    "    while (len(losses) <= max_iter) and (d_loss > loss_stop) and (d_z > z_stop):\n",
    "        zs.append(zs[-1] - lr * grad_func(zs[-1]))\n",
    "        losses.append(loss_func(zs[-1]))\n",
    "        \n",
    "        d_loss = np.abs(losses[-2] - losses[-1])\n",
    "        d_z = np.linalg.norm(zs[-2] - zs[-1])\n",
    "    \n",
    "    return zs[1:], losses[1:]"
   ]
  },
  {
   "cell_type": "code",
   "execution_count": 12,
   "metadata": {},
   "outputs": [],
   "source": [
    "# auxiliary functions\n",
    "def add_x0(X):\n",
    "    \"\"\"\n",
    "    Prepend a column (or array) of 1s to an array of samples,\n",
    "    as a dummy feature representing bias/offset/intercept.\n",
    "    \n",
    "    # Arguments\n",
    "        X: a table or array of variable values, where the last dimension\n",
    "           indexes the variables\n",
    "    \n",
    "    # Returns:\n",
    "        X: the table or array with all records prefixed with a constant\n",
    "           term x0\n",
    "    \"\"\"\n",
    "    x0 = np.expand_dims(np.ones(X.shape[:-1], X.dtype), axis=-1)\n",
    "    return np.concatenate((x0, X), axis=-1)\n",
    "\n",
    "def reshaped_apply(X, func):\n",
    "    \"\"\"\n",
    "    Apply a function to a data array. \n",
    "\n",
    "    If X has more than 2 dimensions, all but the last are unwound into\n",
    "    matrix rows, and then the results vector y is rewound back into the\n",
    "    original shape of those dimensions. The main use case for this is\n",
    "    to work with grids generated by `make_grid`.    \n",
    "\n",
    "    # Arguments\n",
    "        X: a table or array of variable values, where the last dimension\n",
    "           indexes the values\n",
    "        func: a function taking a single 2d array argument and returning\n",
    "           a vector\n",
    "    \n",
    "    # Returns\n",
    "        y: a vector or array of function outputs for the features in X,\n",
    "           and having a corresponding shape\n",
    "    \"\"\"\n",
    "    rewind = None\n",
    "    if len(X.shape) > 2:\n",
    "        rewind = X.shape[:-1]\n",
    "        X = X.reshape(np.product(rewind), X.shape[-1])\n",
    "    \n",
    "    y = func(X)\n",
    "    \n",
    "    if rewind is not None:\n",
    "        y = y.reshape(rewind)\n",
    "    \n",
    "    return y\n",
    "\n",
    "def affine(X, weights):\n",
    "    \"\"\"\n",
    "    Generic affine function of X computed as X . [weights]^T\n",
    "    \n",
    "    If the weights vector is 1 longer than the number of features in X, we\n",
    "    assume it incudes a bias term in first position, and prepend a\n",
    "    corresponding x0 (=1) to X before multiplying.\n",
    "\n",
    "    If X has more than 2 dimensions, all but the last are unwound into\n",
    "    matrix rows, and then the results vector y is rewound back into the\n",
    "    original shape of those dimensions. The main use case for this is\n",
    "    to work with grids generated by `make_grid`.    \n",
    "    \n",
    "    # Arguments\n",
    "        X: a table or array of variable values, where the last dimension\n",
    "           indexes the values\n",
    "        weights: a vector of coefficients, either the same length as the last\n",
    "           dimension of X, or 1 longer\n",
    "    \n",
    "    # Returns\n",
    "        y: a vector or array of dot products of the input observations\n",
    "           with the weights\n",
    "    \"\"\"\n",
    "    if len(weights) == (X.shape[-1] + 1):\n",
    "        X = add_x0(X)\n",
    "    \n",
    "    return reshaped_apply(X, lambda z: z @ weights)\n",
    "\n",
    "def sigmoid ( z ):\n",
    "    return 1/(1 + np.exp(-z))\n",
    "\n",
    "def logistic_forward ( X, w ):\n",
    "    return sigmoid(affine(X, w))\n",
    "\n",
    "def logistic_loss ( X, y, w, eps=1e-10 ):\n",
    "    g = logistic_forward(X, w)\n",
    "    return (np.dot(-y, np.log(g + eps)) - np.dot((1 - y), np.log(1 - g + eps)))/len(y)\n",
    "\n",
    "def logistic_grad ( X, y, w ):\n",
    "    g = logistic_forward(X, w)\n",
    "    return X.T @ (g - y)"
   ]
  },
  {
   "cell_type": "code",
   "execution_count": 13,
   "metadata": {},
   "outputs": [],
   "source": [
    "def logistic_regression ( X, y, w0=None, lr=0.05,\n",
    "                          loss_stop=1e-4, weight_stop=1e-4, max_iter=100 ):\n",
    "    \"\"\"\n",
    "    Fit a logistic regression classifier to data.\n",
    "    \n",
    "    # Arguments\n",
    "        X: an array of sample data, where rows are samples\n",
    "           and columns are features. caller is responsible\n",
    "           for prepending x0=1 terms if required.\n",
    "        y: vector of binary class labels for the samples,\n",
    "           must be same length as number of rows in X\n",
    "        w0: starting value of the weights, if omitted\n",
    "           then all zeros are used\n",
    "        lr: learning rate, ie fraction of gradients by\n",
    "           which to update weights at each iteration\n",
    "        loss_stop: stop iterating if the loss changes\n",
    "            by less than this (absolute)\n",
    "        weight_stop: stop iterating if weights change by less\n",
    "            than this (L2 norm)\n",
    "        max_iter: stop iterating after iterating this\n",
    "            many times\n",
    "           \n",
    "    # Returns\n",
    "        ws: a list of fitted weights at each iteration\n",
    "        losses: a list of the loss values at each iteration\n",
    "    \"\"\"\n",
    "    assert(len(X.shape)==2)\n",
    "    assert(X.shape[0]==len(y))\n",
    "    \n",
    "    if w0 is None: w0 = np.zeros(X.shape[-1])\n",
    "    \n",
    "    return gradient_descent ( w0,\n",
    "                              loss_func = lambda z: logistic_loss(X, y, z),\n",
    "                              grad_func = lambda z: logistic_grad(X, y, z),\n",
    "                              lr = lr,\n",
    "                              loss_stop=loss_stop, z_stop=weight_stop, max_iter=max_iter )"
   ]
  },
  {
   "cell_type": "markdown",
   "metadata": {},
   "source": [
    "### 3) Training\n",
    "- Here we make a function for training that also takes the learning rate as a variable, and keeps track of the loss during training. So that later on we can analyse the effect of the learning rate on the model training loss. Note that the training loss will be Binary Cross-Entropy.\n",
    "- Here we obtain a weight matrix w, which we will use in the validation to make predictions, and then compare them to the actual relevancies to analyse the performance of the model.\n",
    "- Note that the logistic regression function returns a list of the fitted weights at each iteration. We are only interested in the weights at the last iteration."
   ]
  },
  {
   "cell_type": "code",
   "execution_count": 14,
   "metadata": {},
   "outputs": [
    {
     "name": "stderr",
     "output_type": "stream",
     "text": [
      "<ipython-input-12-0ff16e4942a2>:78: RuntimeWarning: overflow encountered in exp\n",
      "  return 1/(1 + np.exp(-z))\n"
     ]
    }
   ],
   "source": [
    "ws, losses = logistic_regression(X_data_train, y_data_train, lr=0.01)\n",
    "best_w = ws[-1]"
   ]
  },
  {
   "cell_type": "markdown",
   "metadata": {},
   "source": [
    "### 4) Validation\n",
    "Here we rank the validation data (passages for each query) using the trained model"
   ]
  },
  {
   "cell_type": "code",
   "execution_count": 15,
   "metadata": {},
   "outputs": [
    {
     "name": "stderr",
     "output_type": "stream",
     "text": [
      "<ipython-input-12-0ff16e4942a2>:78: RuntimeWarning: overflow encountered in exp\n",
      "  return 1/(1 + np.exp(-z))\n"
     ]
    }
   ],
   "source": [
    "y_pred_val =  logistic_forward(X_data_val, best_w)"
   ]
  },
  {
   "cell_type": "code",
   "execution_count": 16,
   "metadata": {},
   "outputs": [],
   "source": [
    "# Now we need to make a ranking for each query with the results from y_pred_val\n",
    "# Get the (qid,pid) pairs from the validation set, and also the unique qid\n",
    "\n",
    "unique_qids = val_dataframe['qid'].copy()\n",
    "unique_qids = unique_qids.drop_duplicates()\n",
    "unique_qids = unique_qids.reset_index(drop=True)\n",
    "unique_qids = np.array(unique_qids) # vector of unique qid in the validation set\n",
    "\n",
    "qid_pid_val = val_dataframe[['qid','pid']].copy()\n",
    "qid_pid_val = np.array(qid_pid_val) # (n,2) array, where each row corresponds to the (qid, pid) pair of each sample"
   ]
  },
  {
   "cell_type": "code",
   "execution_count": 17,
   "metadata": {},
   "outputs": [],
   "source": [
    "LR_scores = pd.DataFrame(columns=['qid', 'A', 'pid', 'rank', 'score', 'algoname']) # dataframe where we store global results for all queries\n",
    "\n",
    "for qid in unique_qids:\n",
    "    output_info = pd.DataFrame(columns=['qid', 'A', 'pid', 'rank', 'score', 'algoname']) # dataframe where we store \n",
    "                                                                                         # the results for the current query\n",
    "    qid_pairs = qid_pid_val[qid_pid_val[:,0] == qid]\n",
    "    qid_rels = y_pred_val[qid_pid_val[:,0] == qid]\n",
    "    indxs = np.argsort(qid_rels)[::-1]\n",
    "    sorted_qid_pairs = qid_pairs[indxs]\n",
    "    sorted_qid_rels = qid_rels[indxs]\n",
    "    \n",
    "    # Now we just get the top 100 scores (if they are available)\n",
    "    top_sorted_qid_pairs = sorted_qid_pairs[:100,:]\n",
    "    top_sorted_qid_rels = sorted_qid_rels[:100]\n",
    "\n",
    "    # Prepare the array with 'A2'\n",
    "    A2 = np.array(['A2'] * len(top_sorted_qid_rels))\n",
    "\n",
    "    # Prepare the array with the ranks\n",
    "    rank = np.array(range(1,len(top_sorted_qid_rels)+1))\n",
    "\n",
    "    # Prepare the array with the algonamme 'LR'\n",
    "    algoname = np.array(['LR'] * len(top_sorted_qid_rels))\n",
    "\n",
    "    # Put everything together in the output_info dataframe\n",
    "    output_info['qid'] = top_sorted_qid_pairs[:,0]\n",
    "    output_info['A'] = A2\n",
    "    output_info['pid'] = top_sorted_qid_pairs[:,1]\n",
    "    output_info['rank'] = rank\n",
    "    output_info['score'] = top_sorted_qid_rels\n",
    "    output_info['algoname'] = algoname\n",
    "\n",
    "    # Append this query dataframe to the one with global results\n",
    "    LR_scores = LR_scores.append(output_info, ignore_index=True)"
   ]
  },
  {
   "cell_type": "code",
   "execution_count": 18,
   "metadata": {},
   "outputs": [],
   "source": [
    "# Example of how to check results\n",
    "# LR_scores[LR_scores['qid'] == unique_qids[990]]\n",
    "# LR_scores[LR_scores['score'] == 1]"
   ]
  },
  {
   "cell_type": "code",
   "execution_count": 19,
   "metadata": {},
   "outputs": [],
   "source": [
    "# Save ranking file as LR.txt\n",
    "np.savetxt(r'LR.txt', LR_scores.values, fmt=['%d','%s','%d','%d','%f','%s'])"
   ]
  },
  {
   "cell_type": "markdown",
   "metadata": {},
   "source": [
    "### 5) Assess performance of model on validation data\n",
    "For this part we use the mAP and NDCG functions defiend in Task 1"
   ]
  },
  {
   "cell_type": "code",
   "execution_count": 20,
   "metadata": {},
   "outputs": [],
   "source": [
    "# Set up dataframes for the functions\n",
    "tq = val_dataframe[['qid', 'queries']].copy()\n",
    "tq = tq.drop_duplicates()\n",
    "tq = tq.reset_index(drop=True)\n",
    "\n",
    "relevancies = val_dataframe[['qid', 'pid', 'relevancy']].copy()"
   ]
  },
  {
   "cell_type": "code",
   "execution_count": 21,
   "metadata": {},
   "outputs": [],
   "source": [
    "# Load ranking data created in previous part\n",
    "LR_ranking = pd.read_csv('LR.txt', delimiter=' ', header=None, names=['qid', 'A', 'pid', 'rank', 'score', 'algoname'])\n",
    "ranking = LR_ranking[['qid', 'pid', 'score']].copy()"
   ]
  },
  {
   "cell_type": "markdown",
   "metadata": {},
   "source": [
    "Now copy the AP and NDCG functions from Task 1"
   ]
  },
  {
   "cell_type": "code",
   "execution_count": 22,
   "metadata": {},
   "outputs": [],
   "source": [
    "# mAP function\n",
    "def AP(queries, ranking, relevancies, k):\n",
    "    '''\n",
    "    Function that computes the Average Precision (AP) metric for each query in 'queries', based on a ranking determined by \n",
    "    a retrieval model, where queries are matched with passages from most relevant to least relevant, and based on relevancies \n",
    "    between queries and passages.\n",
    "\n",
    "    Inputs:\n",
    "    queries = data frame of queries for which you want to calculate the AP metric (contains qid and actual query)\n",
    "    ranking = data frame of queries and passages pairs, where higher score pairs are ranked higher (for each query)\n",
    "    relevancies = data frame of relevancies between each possible (qid,pid) pair\n",
    "    k = top k passages you want to take into account when calculating the AP metric\n",
    "\n",
    "    Outputs:\n",
    "    APs = list of AP@k metric for each query, in the same order of appearance as the input list 'queries'\n",
    "    mAP = mean Average Precision of all the queries\n",
    "    '''\n",
    "\n",
    "    APs = []\n",
    "\n",
    "    for q in queries['qid']:\n",
    "        AP_values = []\n",
    "        cum_rel = 0 # cumulative number of relevant passages found in the ranking\n",
    "\n",
    "        max_k = len(ranking[ranking['qid'] == q])\n",
    "        iter = min(k,max_k) # This is because we some queries do not have that many candidate passages\n",
    "\n",
    "        for i in range(1,iter+1):\n",
    "            p = int(ranking[ranking['qid'] == q].reset_index(drop=True).iloc[i-1]['pid'])\n",
    "            relevancy = relevancies[(relevancies['qid'] == q) & (relevancies['pid'] == p)]['relevancy'].values.item()\n",
    "            if relevancy != 0: # we operate when we encounter a relevant passage\n",
    "                cum_rel += relevancy\n",
    "                AP_values.append(cum_rel / i) \n",
    "\n",
    "        if len(AP_values) != 0:    \n",
    "            APs.append(sum(AP_values)/len(AP_values))\n",
    "        else: # we do this to avoid the computing error of dividing 0/0\n",
    "            APs.append(0)\n",
    "\n",
    "    mAP = np.mean(APs)\n",
    "\n",
    "    return APs, mAP"
   ]
  },
  {
   "cell_type": "code",
   "execution_count": 23,
   "metadata": {},
   "outputs": [],
   "source": [
    "# NDCG function\n",
    "def NDCG(queries, ranking, relevancies, k):\n",
    "    '''\n",
    "    Function that computes the Normalized Discounted Cumulative Gain (NDCG) metric for each query in 'queries', \n",
    "    based on a ranking determined by a retrieval model, where queries are matched with passages from most relevant \n",
    "    to least relevant, and based on relevancies between queries and passages.\n",
    "\n",
    "    Inputs:\n",
    "    queries = data frame of queries for which you want to calculate the AP metric (contains qid and actual query)\n",
    "    ranking = data frame of queries and passages pairs, where higher score pairs are ranked higher (for each query)\n",
    "    relevancies = data frame of relevancies between each possible (qid,pid) pair\n",
    "    k = top k passages you want to take into account when calculating the AP metric\n",
    "\n",
    "    Outputs:\n",
    "    NDCGs = list of AP@k metric for each query, in the same order of appearance as the input list 'queries'\n",
    "    mNDCG = mean Average Precision of all the queries\n",
    "    '''\n",
    "\n",
    "    NDCGs = []\n",
    "\n",
    "    for q in queries['qid']:\n",
    "        DCG = 0\n",
    "        IDCG = 0\n",
    "\n",
    "        max_k = len(ranking[ranking['qid'] == q])\n",
    "        iter = min(k,max_k) # This is because we some queries do not have that many candidate passages\n",
    "\n",
    "        # Get the relevancies for the ideal ranking (of the top k candidates??? - doesn't matter for our data tho), in order\n",
    "        sorted_revs = relevancies[relevancies['qid'] == q].sort_values(by=['relevancy'], ascending=False)['relevancy'].values\n",
    "\n",
    "        for i in range(1,iter+1):\n",
    "            IDCG += (2**sorted_revs[i-1] - 1)/np.log2(i+1)\n",
    "\n",
    "            p = int(ranking[ranking['qid'] == q].reset_index(drop=True).iloc[i-1]['pid'])\n",
    "            rel = relevancies[(relevancies['qid'] == q) & (relevancies['pid'] == p)]['relevancy'].values.item()\n",
    "            DCG += (2**rel - 1)/np.log2(i+1)\n",
    "\n",
    "        if IDCG != 0:\n",
    "            NDCGs.append(DCG/IDCG)\n",
    "        else: # we do this to avoid the computing error of dividing 0/0\n",
    "            NDCGs.append(0)\n",
    "\n",
    "    mNDCG = np.mean(NDCGs)\n",
    "\n",
    "    return NDCGs, mNDCG"
   ]
  },
  {
   "cell_type": "markdown",
   "metadata": {},
   "source": [
    "Compute the preformance metrics"
   ]
  },
  {
   "cell_type": "code",
   "execution_count": 24,
   "metadata": {},
   "outputs": [],
   "source": [
    "AP_3, mAP_3 = AP(tq, ranking, relevancies, 3)\n",
    "AP_10, mAP_10 = AP(tq, ranking, relevancies, 10)\n",
    "AP_100, mAP_100 = AP(tq, ranking, relevancies, 100)\n",
    "\n",
    "NDCG_3, mNDCG_3 = NDCG(tq, ranking, relevancies, 3)\n",
    "NDCG_10, mNDCG_10 = NDCG(tq, ranking, relevancies, 10)\n",
    "NDCG_100, mNDCG_100 = NDCG(tq, ranking, relevancies, 100)"
   ]
  },
  {
   "cell_type": "code",
   "execution_count": 25,
   "metadata": {},
   "outputs": [
    {
     "name": "stdout",
     "output_type": "stream",
     "text": [
      "0.0030487804878048786 0.005420399867263979 0.008302550194078372\n",
      "0.0036579815828371963 0.008514783474616615 0.024729627517578595\n"
     ]
    }
   ],
   "source": [
    "print(mAP_3, mAP_10, mAP_100)\n",
    "\n",
    "print(mNDCG_3, mNDCG_10, mNDCG_100)"
   ]
  },
  {
   "cell_type": "markdown",
   "metadata": {},
   "source": [
    "### 6) Analyse the effect of the learning rate on the model training loss\n",
    "For this we use the 'train' function defined earlier"
   ]
  },
  {
   "cell_type": "code",
   "execution_count": 26,
   "metadata": {},
   "outputs": [
    {
     "name": "stderr",
     "output_type": "stream",
     "text": [
      "<ipython-input-12-0ff16e4942a2>:78: RuntimeWarning: overflow encountered in exp\n",
      "  return 1/(1 + np.exp(-z))\n"
     ]
    }
   ],
   "source": [
    "lrs = [0.5,0.1,0.05,0.01,0.001]\n",
    "loss = []\n",
    "its = []\n",
    "\n",
    "for l_r in lrs:\n",
    "    _, losses = logistic_regression(X_data_train, y_data_train, lr=l_r, loss_stop=1e-5, weight_stop=1e-5)\n",
    "    loss.append(losses)\n",
    "    its.append(len(losses))"
   ]
  },
  {
   "cell_type": "code",
   "execution_count": 27,
   "metadata": {},
   "outputs": [
    {
     "data": {
      "image/png": "[encoded data removed]",
      "text/plain": [
       "<Figure size 432x288 with 1 Axes>"
      ]
     },
     "metadata": {
      "needs_background": "light"
     },
     "output_type": "display_data"
    },
    {
     "data": {
      "text/plain": [
       "<Figure size 432x288 with 0 Axes>"
      ]
     },
     "metadata": {},
     "output_type": "display_data"
    }
   ],
   "source": [
    "for i in range(5):\n",
    "    plt.plot(range(1,its[i]+1), loss[i], label=f'lr = {lrs[i]}')\n",
    "plt.xlabel('iteration')\n",
    "plt.ylabel('cross-entropy loss')\n",
    "plt.title('Effect of learning rate on training loss')\n",
    "plt.legend()\n",
    "plt.show()\n",
    "plt.savefig('learning_rate.png')"
   ]
  },
  {
   "cell_type": "markdown",
   "metadata": {},
   "source": [
    "## End of Task 2"
   ]
  }
 ],
 "metadata": {
  "interpreter": {
   "hash": "989a8ee0261a415be34d4cf0f45e98134ff6fbcaa2e29b3efcaef888d322ba01"
  },
  "kernelspec": {
   "display_name": "Python 3.8.8 ('base')",
   "language": "python",
   "name": "python3"
  },
  "language_info": {
   "codemirror_mode": {
    "name": "ipython",
    "version": 3
   },
   "file_extension": ".py",
   "mimetype": "text/x-python",
   "name": "python",
   "nbconvert_exporter": "python",
   "pygments_lexer": "ipython3",
   "version": "3.8.8"
  },
  "orig_nbformat": 4
 },
 "nbformat": 4,
 "nbformat_minor": 2
}
