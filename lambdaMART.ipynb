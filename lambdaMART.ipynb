{
 "cells": [
  {
   "cell_type": "markdown",
   "metadata": {},
   "source": [
    "# Task 3: LambdaMART Model"
   ]
  },
  {
   "cell_type": "markdown",
   "metadata": {},
   "source": [
    "## Imports and Installs"
   ]
  },
  {
   "cell_type": "code",
   "execution_count": 52,
   "metadata": {},
   "outputs": [],
   "source": [
    "# !pip install xgboost"
   ]
  },
  {
   "cell_type": "code",
   "execution_count": 53,
   "metadata": {},
   "outputs": [],
   "source": [
    "from nltk.stem import WordNetLemmatizer\n",
    "import contractions\n",
    "import string\n",
    "import pickle\n",
    "import numpy as np\n",
    "import pandas as pd\n",
    "import xgboost as xgb\n",
    "from sklearn.model_selection import train_test_split\n",
    "from nltk.corpus import stopwords\n",
    "import bcolz\n",
    "from numpy import dot\n",
    "from numpy.linalg import norm\n",
    "\n",
    "lemmatizer = WordNetLemmatizer()\n",
    "stop_words = set(stopwords.words('english'))"
   ]
  },
  {
   "cell_type": "code",
   "execution_count": 54,
   "metadata": {},
   "outputs": [],
   "source": [
    "def normalise(text):\n",
    "    '''\n",
    "    Function that normalises text and returns tokens.\n",
    "    Input: text --> text string we want to tokenise\n",
    "    Output: tokens --> list of tokens taken from the text string\n",
    "    '''\n",
    "\n",
    "    text = text.lower() # convert all to lower case\n",
    "    text = contractions.fix(text) # expand contractions\n",
    "    text = text.translate(str.maketrans(string.punctuation, ' '*len(string.punctuation))) # remove punctuation\n",
    "    tokens = text.split() # tokenisation\n",
    "    filtered_tokens = [w for w in tokens if not w in stop_words] # remove stop words\n",
    "    # filtered_tokens = list(map(lemmatizer.lemmatize, filtered_tokens)) # lemmatization of nouns\n",
    "\n",
    "    return filtered_tokens"
   ]
  },
  {
   "cell_type": "code",
   "execution_count": 55,
   "metadata": {},
   "outputs": [],
   "source": [
    "#Load in pickled embeddings\n",
    "vectors = bcolz.open('6B.50.dat')[:]\n",
    "words = pickle.load(open('6B.50_words.pkl', 'rb'))\n",
    "word2idx = pickle.load(open('6B.50_idx.pkl', 'rb'))\n",
    "glove = {w: vectors[word2idx[w]] for w in words}"
   ]
  },
  {
   "cell_type": "markdown",
   "metadata": {},
   "source": [
    "## Import BM25 and TF-IDF scores"
   ]
  },
  {
   "cell_type": "code",
   "execution_count": 56,
   "metadata": {},
   "outputs": [],
   "source": [
    "bm25_train = pd.read_csv('bm25_train.csv', delimiter=',', header=None, names=['qid','pid','bm25'])\n",
    "tfidf_train = pd.read_csv('tfidf_train.csv', delimiter=',', header=None, names=['qid','pid','tfidf'])"
   ]
  },
  {
   "cell_type": "code",
   "execution_count": 57,
   "metadata": {},
   "outputs": [],
   "source": [
    "bm25_val = pd.read_csv('bm25_val.csv', delimiter=',', header=None, names=['qid','pid','bm25'])\n",
    "tfidf_val = pd.read_csv('tfidf_val.csv', delimiter=',', header=None, names=['qid','pid','tfidf'])"
   ]
  },
  {
   "cell_type": "markdown",
   "metadata": {},
   "source": [
    "## Process data"
   ]
  },
  {
   "cell_type": "code",
   "execution_count": 58,
   "metadata": {},
   "outputs": [],
   "source": [
    "train_dataframe = pd.read_csv('train_data.tsv', delimiter='\\t')\n",
    "train_dataframe = train_dataframe.join(bm25_train['bm25'])\n",
    "train_dataframe = train_dataframe.join(tfidf_train['tfidf'])"
   ]
  },
  {
   "cell_type": "code",
   "execution_count": 59,
   "metadata": {},
   "outputs": [],
   "source": [
    "val_dataframe = pd.read_csv('validation_data.tsv', delimiter='\\t')\n",
    "val_dataframe = val_dataframe.join(bm25_val['bm25'])\n",
    "val_dataframe = val_dataframe.join(tfidf_val['tfidf'])"
   ]
  },
  {
   "cell_type": "code",
   "execution_count": 60,
   "metadata": {},
   "outputs": [],
   "source": [
    "X_data_train = []\n",
    "y_data_train = []\n",
    "\n",
    "def train_data_extraction(row):\n",
    "\n",
    "    q_embed = np.zeros(50) # we chose glove vectors to have length = 50\n",
    "    p_embed = np.zeros(50)\n",
    "    \n",
    "    query = normalise(row['queries'])\n",
    "    for q in query:\n",
    "        try:\n",
    "            q_embed += glove[q]\n",
    "        except:\n",
    "            q_embed += glove['<unk>'] # if the token is not present in GloVe, we assign it as <unk>\n",
    "    q_embed /= len(query)\n",
    "\n",
    "    passage = normalise(row['passage'])\n",
    "    for p in passage:\n",
    "        try:\n",
    "            p_embed += glove[p]\n",
    "        except:\n",
    "            p_embed += glove['<unk>'] # if the token is not present in GloVe, we assign it as <unk>\n",
    "    p_embed /= len(passage)\n",
    "\n",
    "    rel = row['relevancy']\n",
    "    \n",
    "    sim = dot(q_embed, p_embed) / (norm(q_embed) * norm(p_embed))\n",
    "    bm25_score = row['bm25']\n",
    "    tfidf_score = row['tfidf']\n",
    "    q_len = len(query)\n",
    "    p_len = len(passage)\n",
    "\n",
    "    X_data_train.append([sim, bm25_score, tfidf_score, q_len, p_len])\n",
    "    y_data_train.append(rel)\n",
    "\n",
    "_ = train_dataframe.apply(lambda row: train_data_extraction(row), axis=1)\n",
    "\n",
    "X_data_train = np.array(X_data_train, dtype=\"O\")\n",
    "y_data_train = np.array(y_data_train, dtype=\"O\")"
   ]
  },
  {
   "cell_type": "code",
   "execution_count": 61,
   "metadata": {},
   "outputs": [],
   "source": [
    "# Save processed training data to use in NN model in Task 4\n",
    "np.savetxt('processed_X_train_data.txt', X_data_train, fmt='%f')\n",
    "np.savetxt('processed_y_train_data.txt', y_data_train, fmt='%f')"
   ]
  },
  {
   "cell_type": "code",
   "execution_count": 62,
   "metadata": {},
   "outputs": [],
   "source": [
    "X_data_val = []\n",
    "y_data_val = []\n",
    "\n",
    "def val_data_extraction(row):\n",
    "\n",
    "    q_embed = np.zeros(50) # we chose glove vectors to have length = 50\n",
    "    p_embed = np.zeros(50)\n",
    "    \n",
    "    query = normalise(row['queries'])\n",
    "    for q in query:\n",
    "        try:\n",
    "            q_embed += glove[q]\n",
    "        except:\n",
    "            q_embed += glove['<unk>'] # if the token is not present in GloVe, we assign it as <unk>\n",
    "    q_embed /= len(query)\n",
    "\n",
    "    passage = normalise(row['passage'])\n",
    "    for p in passage:\n",
    "        try:\n",
    "            p_embed += glove[p]\n",
    "        except:\n",
    "            p_embed += glove['<unk>'] # if the token is not present in GloVe, we assign it as <unk>\n",
    "    p_embed /= len(passage)\n",
    "\n",
    "    rel = row['relevancy']\n",
    "    \n",
    "    sim = dot(q_embed, p_embed) / (norm(q_embed) * norm(p_embed))\n",
    "    bm25_score = row['bm25']\n",
    "    tfidf_score = row['tfidf']\n",
    "    q_len = len(query)\n",
    "    p_len = len(passage)\n",
    "\n",
    "    X_data_val.append([sim, bm25_score, tfidf_score, q_len, p_len])\n",
    "    y_data_val.append(rel)\n",
    "\n",
    "_ = val_dataframe.apply(lambda row: val_data_extraction(row), axis=1)\n",
    "\n",
    "X_data_val = np.array(X_data_val, dtype=\"O\")\n",
    "y_data_val = np.array(y_data_val, dtype=\"O\")"
   ]
  },
  {
   "cell_type": "code",
   "execution_count": 116,
   "metadata": {},
   "outputs": [],
   "source": [
    "# Save processed validation data to use in NN model in Task 4\n",
    "np.savetxt('processed_X_val_data.txt', X_data_val, fmt='%f')\n",
    "np.savetxt('processed_y_val_data.txt', y_data_val, fmt='%f')"
   ]
  },
  {
   "cell_type": "markdown",
   "metadata": {},
   "source": [
    "## Prepare data for cross validation"
   ]
  },
  {
   "cell_type": "code",
   "execution_count": 64,
   "metadata": {},
   "outputs": [],
   "source": [
    "qid_pid = []\n",
    "\n",
    "def get_qid_pid(row):\n",
    "\n",
    "    qid = row['qid']\n",
    "    pid = row['pid']\n",
    "\n",
    "    qid_pid.append([qid,pid])\n",
    "\n",
    "_ = train_dataframe.apply(lambda row: get_qid_pid(row), axis=1)\n",
    "\n",
    "qid_pid = np.array(qid_pid)"
   ]
  },
  {
   "cell_type": "code",
   "execution_count": 65,
   "metadata": {},
   "outputs": [],
   "source": [
    "# Put the qid pid references in the array, so that when we do the tune split, we keep them and we can caluclate the ndcg scores\n",
    "y_data_train = np.concatenate((np.array([y_data_train]).T,qid_pid),axis=1)"
   ]
  },
  {
   "cell_type": "markdown",
   "metadata": {},
   "source": [
    "## Build LambdaMART model\n",
    "\n",
    "For LambdaMART we set objective to rank:pairwise, rank:ndcg, or rank:map.\n",
    "\n",
    "Here we parameterise the model and we do hyperparameter tuning to derive the best performing model.\n",
    "\n",
    "Main hyperparameters to focus on:\n",
    "\n",
    "Control overfitting with model complexity:\n",
    "\n",
    "- max_depth (maximum depth of a tree. Increasing this value will make the model more complex and more likely to overfit. 0 indicates no limit on depth --> default = 6, range from 0 to +infinity)\n",
    "- min_child_weight (Minimum sum of instance weight (hessian) needed in a child. If the tree partition step results in a leaf node with the sum of instance weight less than min_child_weight, then the building process will give up further partitioning. In linear regression task, this simply corresponds to minimum number of instances needed to be in each node. The larger min_child_weight is, the more conservative the algorithm will be --> default = 1, range from 0 to +infinity)\n",
    "- gamma (minimum loss reduction required to make a further partition on a leaf node of the tree. The larger gamma is, the more conservative the algorithm will be --> detault = 0, rages from 0 to +infinity)\n",
    "- Regularisation with lambda (L2 regularization term on weights. Increasing this value will make model more conservative --> default = 1)\n",
    "- Regularisation with alpha (L1 regularization term on weights. Increasing this value will make model more conservative --> default = 0)\n",
    "\n",
    "Control overfitting by adding randomness:\n",
    "\n",
    "- subsample (Subsample ratio of the training instances. Setting it to 0.5 means that XGBoost would randomly sample half of the training data prior to growing trees. and this will prevent overfitting. Subsampling will occur once in every boosting iteration --> default = 1, range (0,1])\n",
    "- colsample_bytree\n",
    "- Reduce stepsize (eta --> default = 0.3, ranges from 0 to 1) and increase num_round (number of rounds for boosting)\n",
    "\n",
    "For faster training performance:\n",
    "\n",
    "- Set tree_method (default = auto) to hist or gpu_hist\n",
    "\n"
   ]
  },
  {
   "cell_type": "markdown",
   "metadata": {},
   "source": [
    "### 1) Prepare data for training and hyperparameter tuning"
   ]
  },
  {
   "cell_type": "code",
   "execution_count": 66,
   "metadata": {},
   "outputs": [],
   "source": [
    "# Separate training data 90% training, 10% for testing (hyperparameter tuning)\n",
    "X_train, X_tune, yplus_train, yplus_tune = train_test_split(X_data_train,y_data_train,test_size=.1, random_state=42)"
   ]
  },
  {
   "cell_type": "code",
   "execution_count": 67,
   "metadata": {},
   "outputs": [],
   "source": [
    "y_train = yplus_train[:,0]\n",
    "# qid_pid_train = yplus_train[:,1:] # not necessary\n",
    "\n",
    "y_tune = yplus_tune[:,0]\n",
    "qid_pid_tune = yplus_tune[:,1:]"
   ]
  },
  {
   "cell_type": "code",
   "execution_count": 68,
   "metadata": {},
   "outputs": [],
   "source": [
    "# Create DMatrix\n",
    "train_data = xgb.DMatrix(X_train, label=y_train)\n",
    "tune_data = xgb.DMatrix(X_tune, label=y_tune)\n",
    "val_data = xgb.DMatrix(X_data_val, label=y_data_val)"
   ]
  },
  {
   "cell_type": "markdown",
   "metadata": {},
   "source": [
    "### 2) mNDCG calculator function for tuning data"
   ]
  },
  {
   "cell_type": "code",
   "execution_count": 69,
   "metadata": {},
   "outputs": [],
   "source": [
    "# NDCG function\n",
    "def mNDCG_tune(ranking, relevancies, k):\n",
    "    '''\n",
    "    Function that computes the Normalized Discounted Cumulative Gain (NDCG) metric for each query in 'queries', \n",
    "    based on a ranking determined by a retrieval model, where queries are matched with passages from most relevant \n",
    "    to least relevant, and based on relevancies between queries and passages.\n",
    "\n",
    "    Inputs:\n",
    "    ranking = array of (qid,pid,score)\n",
    "    relevancies = array of relevancies between each possible (qid,pid) pair\n",
    "    k = top k passages you want to take into account when calculating the AP metric\n",
    "\n",
    "    Outputs:\n",
    "    NDCGs = list of NDCG@k metric for each query, in the same order of appearance as the input list 'queries'\n",
    "    mNDCG = mean NDCG@k of all the queries\n",
    "    '''\n",
    "\n",
    "    queries = np.unique(ranking[:,0])\n",
    "\n",
    "    NDCGs = []\n",
    "\n",
    "    for q in queries:\n",
    "        relevant_pairs = ranking[ranking[:,0]==q]\n",
    "        relevant_rels = relevancies[ranking[:,0]==q]\n",
    "        indxs = np.argsort(relevant_pairs[:,2])[::-1]\n",
    "        rel_ranking = relevant_rels[indxs]\n",
    "        ideal_ranking = np.sort(rel_ranking)[::-1]\n",
    "\n",
    "        DCG = 0\n",
    "        IDCG = 0\n",
    "\n",
    "        max_k = len(relevant_rels)\n",
    "        iter = min(k,max_k) # This is because we some queries do not have that many candidate passages\n",
    "\n",
    "        for i in range(1,iter+1):\n",
    "            IDCG += (2**ideal_ranking[i-1] - 1)/np.log2(i+1)\n",
    "            DCG += (2**rel_ranking[i-1] - 1)/np.log2(i+1)\n",
    "\n",
    "        if IDCG != 0:\n",
    "            NDCGs.append(DCG/IDCG)\n",
    "        else: # we do this to avoid the computing error of dividing 0/0\n",
    "            NDCGs.append(0)\n",
    "\n",
    "    mNDCG = np.mean(NDCGs)\n",
    "\n",
    "    return mNDCG"
   ]
  },
  {
   "cell_type": "markdown",
   "metadata": {},
   "source": [
    "### 3) Hyperparameter tuning\n",
    "The optimal way to do it would be with a massive grid search with all the parameters, but we do not have time nor computing power for that, so we focus in the most imoprtant parameters that have the most effect on a model."
   ]
  },
  {
   "cell_type": "code",
   "execution_count": 70,
   "metadata": {},
   "outputs": [],
   "source": [
    "# Initial parameters of the model\n",
    "params = {\n",
    "    # Parameters that we are going to tune.\n",
    "    'max_depth':6, # try values: 8 to 11\n",
    "    'min_child_weight': 1, # try values 4 to 7\n",
    "    'eta':0.3, # try values [.3, .2, .1, .05, .01, .005]\n",
    "    # 'num_round':10, # try values [10, 20, 30, .50, .100, .300]\n",
    "    'subsample': 1, # try values [0.7, 0.8, 0.9, 1] - proportion of data samples we use\n",
    "    'colsample_bytree': 1, # try values [0.7, 0.8, 0.9, 1] - proportion of features we use\n",
    "    # Other parameters\n",
    "    'objective':'rank:pairwise',\n",
    "}"
   ]
  },
  {
   "cell_type": "markdown",
   "metadata": {},
   "source": [
    "#### 3.1) max_depth vs min_child_weight"
   ]
  },
  {
   "cell_type": "code",
   "execution_count": 71,
   "metadata": {},
   "outputs": [],
   "source": [
    "max_depths = [8,9,10,11]\n",
    "min_child_weights = [4,5,6,7]"
   ]
  },
  {
   "cell_type": "code",
   "execution_count": 72,
   "metadata": {},
   "outputs": [],
   "source": [
    "mNDCGs = np.zeros([len(max_depths), len(min_child_weights)])\n",
    "\n",
    "for i in range(len(max_depths)):\n",
    "    for j in range(len(min_child_weights)):\n",
    "        \n",
    "        params = {'max_depth':max_depths[i], 'min_child_weight': min_child_weights[j], 'eta':0.3, \n",
    "                    'subsample': 1, 'colsample_bytree': 1, 'objective':'rank:pairwise'}\n",
    "        \n",
    "        # Train model with chosen parameters\n",
    "        model = xgb.train(params, train_data)\n",
    "\n",
    "        # Make predictions with the trained model\n",
    "        preds = model.predict(tune_data)\n",
    "\n",
    "        # Get true labels trom tuning data\n",
    "        tuning_labels = tune_data.get_label()\n",
    "\n",
    "        # Evaluate predictions: compute mNDCG of tuning data\n",
    "        # Note that for the NDCG function we put preds as the score in the ranking array, and tuning_labels are the relevancies\n",
    "        ranking_array = np.concatenate((qid_pid_tune,np.array([preds]).T), axis=1)\n",
    "        mNDCGs[i,j] = mNDCG_tune(ranking_array, tuning_labels, 100)"
   ]
  },
  {
   "cell_type": "code",
   "execution_count": 73,
   "metadata": {},
   "outputs": [],
   "source": [
    "coords = np.argwhere(mNDCGs == np.min(mNDCGs))\n",
    "best_max_depth = max_depths[coords[0,0]]\n",
    "best_min_child_weight = min_child_weights[coords[0,1]]"
   ]
  },
  {
   "cell_type": "code",
   "execution_count": 74,
   "metadata": {},
   "outputs": [
    {
     "name": "stdout",
     "output_type": "stream",
     "text": [
      "11\n",
      "7\n"
     ]
    }
   ],
   "source": [
    "print(best_max_depth)\n",
    "print(best_min_child_weight)"
   ]
  },
  {
   "cell_type": "markdown",
   "metadata": {},
   "source": [
    "#### 3.2) subsample vs colsample_bytree"
   ]
  },
  {
   "cell_type": "code",
   "execution_count": 75,
   "metadata": {},
   "outputs": [],
   "source": [
    "subsamples = [0.7,0.8,0.9,1]\n",
    "colsample_bytrees = [0.7,0.8,0.9,1]"
   ]
  },
  {
   "cell_type": "code",
   "execution_count": 76,
   "metadata": {},
   "outputs": [],
   "source": [
    "mNDCGs = np.zeros([len(subsamples), len(colsample_bytrees)])\n",
    "\n",
    "for i in range(len(subsamples)):\n",
    "    for j in range(len(colsample_bytrees)):\n",
    "        \n",
    "        params = {'max_depth':best_max_depth, 'min_child_weight': best_min_child_weight, 'eta':0.3, \n",
    "                    'subsample': subsamples[i], 'colsample_bytree': colsample_bytrees[j], 'objective':'rank:pairwise'}\n",
    "        \n",
    "        # Train model with chosen parameters\n",
    "        model = xgb.train(params, train_data)\n",
    "\n",
    "        # Make predictions with the trained model\n",
    "        preds = model.predict(tune_data)\n",
    "\n",
    "        # Get true labels trom tuning data\n",
    "        tuning_labels = tune_data.get_label()\n",
    "\n",
    "        # Evaluate predictions: compute mNDCG of tuning data\n",
    "        # Note that for the NDCG function we put preds as the score in the ranking array, and tuning_labels are the relevancies\n",
    "        ranking_array = np.concatenate((qid_pid_tune,np.array([preds]).T), axis=1)\n",
    "        mNDCGs[i,j] = mNDCG_tune(ranking_array, tuning_labels, 100)"
   ]
  },
  {
   "cell_type": "code",
   "execution_count": 77,
   "metadata": {},
   "outputs": [],
   "source": [
    "coords = np.argwhere(mNDCGs == np.min(mNDCGs))\n",
    "best_subsample = subsamples[int(coords[0,0])]\n",
    "best_colsample_bytree = colsample_bytrees[int(coords[0,1])]"
   ]
  },
  {
   "cell_type": "code",
   "execution_count": 78,
   "metadata": {},
   "outputs": [
    {
     "name": "stdout",
     "output_type": "stream",
     "text": [
      "0.7\n",
      "0.7\n"
     ]
    }
   ],
   "source": [
    "print(best_subsample)\n",
    "print(best_colsample_bytree)"
   ]
  },
  {
   "cell_type": "markdown",
   "metadata": {},
   "source": [
    "#### 3.3) eta"
   ]
  },
  {
   "cell_type": "code",
   "execution_count": 79,
   "metadata": {},
   "outputs": [],
   "source": [
    "etas = [.3, .2, .1, .05, .01, .005]"
   ]
  },
  {
   "cell_type": "code",
   "execution_count": 80,
   "metadata": {},
   "outputs": [],
   "source": [
    "mNDCGs = np.zeros(len(etas))\n",
    "\n",
    "for i in range(len(etas)):\n",
    "        \n",
    "    params = {'max_depth':best_max_depth, 'min_child_weight': best_min_child_weight, 'eta':etas[i], \n",
    "                'subsample': best_subsample, 'colsample_bytree': best_colsample_bytree, 'objective':'rank:pairwise'}\n",
    "    \n",
    "    # Train model with chosen parameters\n",
    "    model = xgb.train(params, train_data)\n",
    "\n",
    "    # Make predictions with the trained model\n",
    "    preds = model.predict(tune_data)\n",
    "\n",
    "    # Get true labels trom tuning data\n",
    "    tuning_labels = tune_data.get_label()\n",
    "\n",
    "    # Evaluate predictions: compute mNDCG of tuning data\n",
    "    # Note that for the NDCG function we put preds as the score in the ranking array, and tuning_labels are the relevancies\n",
    "    ranking_array = np.concatenate((qid_pid_tune,np.array([preds]).T), axis=1)\n",
    "    mNDCGs[i] = mNDCG_tune(ranking_array, tuning_labels, 100)"
   ]
  },
  {
   "cell_type": "code",
   "execution_count": 81,
   "metadata": {},
   "outputs": [],
   "source": [
    "coords = np.argmin(mNDCGs)\n",
    "best_eta = etas[int(coords)]"
   ]
  },
  {
   "cell_type": "code",
   "execution_count": 82,
   "metadata": {},
   "outputs": [
    {
     "name": "stdout",
     "output_type": "stream",
     "text": [
      "0.005\n"
     ]
    }
   ],
   "source": [
    "print(best_eta)"
   ]
  },
  {
   "cell_type": "markdown",
   "metadata": {},
   "source": [
    "### 4) Train final model and get validation ranking"
   ]
  },
  {
   "cell_type": "code",
   "execution_count": 97,
   "metadata": {},
   "outputs": [],
   "source": [
    "# Final parameters\n",
    "params = {'max_depth':11, 'min_child_weight': 7, 'eta':0.005, \n",
    "                'subsample': 0.7, 'colsample_bytree': 0.7, 'objective':'rank:pairwise'}"
   ]
  },
  {
   "cell_type": "code",
   "execution_count": 98,
   "metadata": {},
   "outputs": [],
   "source": [
    "# Tain model on the full training set\n",
    "train_data = xgb.DMatrix(X_data_train, label=y_data_train[:,0])\n",
    "model = xgb.train(params, train_data)"
   ]
  },
  {
   "cell_type": "code",
   "execution_count": 99,
   "metadata": {},
   "outputs": [
    {
     "data": {
      "image/png": "[encoded data removed]",
      "text/plain": [
       "<Figure size 1440x1440 with 1 Axes>"
      ]
     },
     "metadata": {
      "needs_background": "light"
     },
     "output_type": "display_data"
    }
   ],
   "source": [
    "# Look at the importance of each of the features within the model\n",
    "ax = xgb.plot_importance(model, color='red')\n",
    "fig = ax.figure\n",
    "fig.set_size_inches(20, 20)\n",
    "fig.savefig('feature_importance.png')"
   ]
  },
  {
   "cell_type": "markdown",
   "metadata": {},
   "source": [
    "## Validation performance analysis"
   ]
  },
  {
   "cell_type": "code",
   "execution_count": 100,
   "metadata": {},
   "outputs": [],
   "source": [
    "# Make predictions with the trained model\n",
    "preds = model.predict(val_data)"
   ]
  },
  {
   "cell_type": "markdown",
   "metadata": {},
   "source": [
    "### Make ranking"
   ]
  },
  {
   "cell_type": "code",
   "execution_count": 101,
   "metadata": {},
   "outputs": [],
   "source": [
    "y_pred_val = preds"
   ]
  },
  {
   "cell_type": "code",
   "execution_count": 102,
   "metadata": {},
   "outputs": [],
   "source": [
    "# Export LM.txt ranking\n",
    "\n",
    "unique_qids = val_dataframe['qid'].copy()\n",
    "unique_qids = unique_qids.drop_duplicates()\n",
    "unique_qids = unique_qids.reset_index(drop=True)\n",
    "unique_qids = np.array(unique_qids) # vector of unique qid in the validation set\n",
    "\n",
    "qid_pid_val = val_dataframe[['qid','pid']].copy()\n",
    "qid_pid_val = np.array(qid_pid_val) # (n,2) array, where each row corresponds to the (qid, pid) pair of each sample"
   ]
  },
  {
   "cell_type": "code",
   "execution_count": 103,
   "metadata": {},
   "outputs": [],
   "source": [
    "LM_scores = pd.DataFrame(columns=['qid', 'A', 'pid', 'rank', 'score', 'algoname']) # dataframe where we store global results for all queries\n",
    "\n",
    "for qid in unique_qids:\n",
    "    output_info = pd.DataFrame(columns=['qid', 'A', 'pid', 'rank', 'score', 'algoname']) # dataframe where we store \n",
    "                                                                                         # the results for the current query\n",
    "    qid_pairs = qid_pid_val[qid_pid_val[:,0] == qid]\n",
    "    qid_rels = y_pred_val[qid_pid_val[:,0] == qid]\n",
    "    indxs = np.argsort(qid_rels)[::-1]\n",
    "    sorted_qid_pairs = qid_pairs[indxs]\n",
    "    sorted_qid_rels = qid_rels[indxs]\n",
    "    \n",
    "    # Now we just get the top 100 scores (if they are available)\n",
    "    top_sorted_qid_pairs = sorted_qid_pairs[:100,:]\n",
    "    top_sorted_qid_rels = sorted_qid_rels[:100]\n",
    "\n",
    "    # Prepare the array with 'A2'\n",
    "    A2 = np.array(['A2'] * len(top_sorted_qid_rels))\n",
    "\n",
    "    # Prepare the array with the ranks\n",
    "    rank = np.array(range(1,len(top_sorted_qid_rels)+1))\n",
    "\n",
    "    # Prepare the array with the algonamme 'LR'\n",
    "    algoname = np.array(['LM'] * len(top_sorted_qid_rels))\n",
    "\n",
    "    # Put everything together in the output_info dataframe\n",
    "    output_info['qid'] = top_sorted_qid_pairs[:,0]\n",
    "    output_info['A'] = A2\n",
    "    output_info['pid'] = top_sorted_qid_pairs[:,1]\n",
    "    output_info['rank'] = rank\n",
    "    output_info['score'] = top_sorted_qid_rels\n",
    "    output_info['algoname'] = algoname\n",
    "\n",
    "    # Append this query dataframe to the one with global results\n",
    "    LM_scores = LM_scores.append(output_info, ignore_index=True)"
   ]
  },
  {
   "cell_type": "code",
   "execution_count": 104,
   "metadata": {},
   "outputs": [],
   "source": [
    "# Save ranking file as LM.txt\n",
    "np.savetxt(r'LM.txt', LM_scores.values, fmt=['%d','%s','%d','%d','%f','%s'])"
   ]
  },
  {
   "cell_type": "markdown",
   "metadata": {},
   "source": [
    "### Assess performance of model on validation data\n",
    "For this part we use the mAP and NDCG functions defiend in Task 1"
   ]
  },
  {
   "cell_type": "code",
   "execution_count": 105,
   "metadata": {},
   "outputs": [],
   "source": [
    "# Set up dataframes for the functions\n",
    "tq = val_dataframe[['qid', 'queries']].copy()\n",
    "tq = tq.drop_duplicates()\n",
    "tq = tq.reset_index(drop=True)\n",
    "\n",
    "relevancies = val_dataframe[['qid', 'pid', 'relevancy']].copy()"
   ]
  },
  {
   "cell_type": "code",
   "execution_count": 117,
   "metadata": {},
   "outputs": [],
   "source": [
    "# Load ranking data created in previous part\n",
    "LM_ranking = pd.read_csv('LM.txt', delimiter=' ', header=None, names=['qid', 'A', 'pid', 'rank', 'score', 'algoname'])\n",
    "ranking = LM_ranking[['qid', 'pid', 'score']].copy()"
   ]
  },
  {
   "cell_type": "markdown",
   "metadata": {},
   "source": [
    "Now copy the AP and NDCG functions from Task 1"
   ]
  },
  {
   "cell_type": "code",
   "execution_count": 107,
   "metadata": {},
   "outputs": [],
   "source": [
    "# mAP function\n",
    "def AP(queries, ranking, relevancies, k):\n",
    "    '''\n",
    "    Function that computes the Average Precision (AP) metric for each query in 'queries', based on a ranking determined by \n",
    "    a retrieval model, where queries are matched with passages from most relevant to least relevant, and based on relevancies \n",
    "    between queries and passages.\n",
    "\n",
    "    Inputs:\n",
    "    queries = data frame of queries for which you want to calculate the AP metric (contains qid and actual query)\n",
    "    ranking = data frame of queries and passages pairs, where higher score pairs are ranked higher (for each query)\n",
    "    relevancies = data frame of relevancies between each possible (qid,pid) pair\n",
    "    k = top k passages you want to take into account when calculating the AP metric\n",
    "\n",
    "    Outputs:\n",
    "    APs = list of AP@k metric for each query, in the same order of appearance as the input list 'queries'\n",
    "    mAP = mean Average Precision of all the queries\n",
    "    '''\n",
    "\n",
    "    APs = []\n",
    "\n",
    "    for q in queries['qid']:\n",
    "        AP_values = []\n",
    "        cum_rel = 0 # cumulative number of relevant passages found in the ranking\n",
    "\n",
    "        max_k = len(ranking[ranking['qid'] == q])\n",
    "        iter = min(k,max_k) # This is because we some queries do not have that many candidate passages\n",
    "\n",
    "        for i in range(1,iter+1):\n",
    "            p = int(ranking[ranking['qid'] == q].reset_index(drop=True).iloc[i-1]['pid'])\n",
    "            relevancy = relevancies[(relevancies['qid'] == q) & (relevancies['pid'] == p)]['relevancy'].values.item()\n",
    "            if relevancy != 0: # we operate when we encounter a relevant passage\n",
    "                cum_rel += relevancy\n",
    "                AP_values.append(cum_rel / i) \n",
    "\n",
    "        if len(AP_values) != 0:    \n",
    "            APs.append(sum(AP_values)/len(AP_values))\n",
    "        else: # we do this to avoid the computing error of dividing 0/0\n",
    "            APs.append(0)\n",
    "\n",
    "    mAP = np.mean(APs)\n",
    "\n",
    "    return APs, mAP"
   ]
  },
  {
   "cell_type": "code",
   "execution_count": 108,
   "metadata": {},
   "outputs": [],
   "source": [
    "# NDCG function\n",
    "def NDCG(queries, ranking, relevancies, k):\n",
    "    '''\n",
    "    Function that computes the Normalized Discounted Cumulative Gain (NDCG) metric for each query in 'queries', \n",
    "    based on a ranking determined by a retrieval model, where queries are matched with passages from most relevant \n",
    "    to least relevant, and based on relevancies between queries and passages.\n",
    "\n",
    "    Inputs:\n",
    "    queries = data frame of queries for which you want to calculate the AP metric (contains qid and actual query)\n",
    "    ranking = data frame of queries and passages pairs, where higher score pairs are ranked higher (for each query)\n",
    "    relevancies = data frame of relevancies between each possible (qid,pid) pair\n",
    "    k = top k passages you want to take into account when calculating the AP metric\n",
    "\n",
    "    Outputs:\n",
    "    NDCGs = list of AP@k metric for each query, in the same order of appearance as the input list 'queries'\n",
    "    mNDCG = mean Average Precision of all the queries\n",
    "    '''\n",
    "\n",
    "    NDCGs = []\n",
    "\n",
    "    for q in queries['qid']:\n",
    "        DCG = 0\n",
    "        IDCG = 0\n",
    "\n",
    "        max_k = len(ranking[ranking['qid'] == q])\n",
    "        iter = min(k,max_k) # This is because we some queries do not have that many candidate passages\n",
    "\n",
    "        # Get the relevancies for the ideal ranking (of the top k candidates??? - doesn't matter for our data tho), in order\n",
    "        sorted_revs = relevancies[relevancies['qid'] == q].sort_values(by=['relevancy'], ascending=False)['relevancy'].values\n",
    "\n",
    "        for i in range(1,iter+1):\n",
    "            IDCG += (2**sorted_revs[i-1] - 1)/np.log2(i+1)\n",
    "\n",
    "            p = int(ranking[ranking['qid'] == q].reset_index(drop=True).iloc[i-1]['pid'])\n",
    "            rel = relevancies[(relevancies['qid'] == q) & (relevancies['pid'] == p)]['relevancy'].values.item()\n",
    "            DCG += (2**rel - 1)/np.log2(i+1)\n",
    "\n",
    "        if IDCG != 0:\n",
    "            NDCGs.append(DCG/IDCG)\n",
    "        else: # we do this to avoid the computing error of dividing 0/0\n",
    "            NDCGs.append(0)\n",
    "\n",
    "    mNDCG = np.mean(NDCGs)\n",
    "\n",
    "    return NDCGs, mNDCG"
   ]
  },
  {
   "cell_type": "markdown",
   "metadata": {},
   "source": [
    "Compute performance metrics"
   ]
  },
  {
   "cell_type": "code",
   "execution_count": 118,
   "metadata": {},
   "outputs": [],
   "source": [
    "AP_3, mAP_3 = AP(tq, ranking, relevancies, 3)\n",
    "AP_10, mAP_10 = AP(tq, ranking, relevancies, 10)\n",
    "AP_100, mAP_100 = AP(tq, ranking, relevancies, 100)\n",
    "\n",
    "NDCG_3, mNDCG_3 = NDCG(tq, ranking, relevancies, 3)\n",
    "NDCG_10, mNDCG_10 = NDCG(tq, ranking, relevancies, 10)\n",
    "NDCG_100, mNDCG_100 = NDCG(tq, ranking, relevancies, 100)"
   ]
  },
  {
   "cell_type": "code",
   "execution_count": 119,
   "metadata": {},
   "outputs": [
    {
     "name": "stdout",
     "output_type": "stream",
     "text": [
      "0.1476480836236934 0.17821781151484983 0.19153942472237973\n",
      "0.1623404784203946 0.22750182841012126 0.30431658062579914\n"
     ]
    }
   ],
   "source": [
    "print(mAP_3, mAP_10, mAP_100)\n",
    "\n",
    "print(mNDCG_3, mNDCG_10, mNDCG_100)"
   ]
  }
 ],
 "metadata": {
  "interpreter": {
   "hash": "989a8ee0261a415be34d4cf0f45e98134ff6fbcaa2e29b3efcaef888d322ba01"
  },
  "kernelspec": {
   "display_name": "Python 3.8.8 ('base')",
   "language": "python",
   "name": "python3"
  },
  "language_info": {
   "codemirror_mode": {
    "name": "ipython",
    "version": 3
   },
   "file_extension": ".py",
   "mimetype": "text/x-python",
   "name": "python",
   "nbconvert_exporter": "python",
   "pygments_lexer": "ipython3",
   "version": "3.8.8"
  },
  "orig_nbformat": 4
 },
 "nbformat": 4,
 "nbformat_minor": 2
}
